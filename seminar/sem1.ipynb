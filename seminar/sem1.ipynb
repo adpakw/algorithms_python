{
 "cells": [
  {
   "cell_type": "code",
   "execution_count": 5,
   "id": "c33769a7",
   "metadata": {},
   "outputs": [
    {
     "data": {
      "text/plain": [
       "datetime.date(2025, 9, 11)"
      ]
     },
     "execution_count": 5,
     "metadata": {},
     "output_type": "execute_result"
    }
   ],
   "source": [
    "import datetime\n",
    "\n",
    "time_point = str(datetime.datetime.now())\n",
    "time_point_dt = datetime.datetime.fromisoformat(time_point)\n",
    "time_point_date = time_point_dt.date()\n",
    "time_point_date - datetime.timedelta(days=7)"
   ]
  }
 ],
 "metadata": {
  "kernelspec": {
   "display_name": "algorithms-python-py3.12",
   "language": "python",
   "name": "python3"
  },
  "language_info": {
   "codemirror_mode": {
    "name": "ipython",
    "version": 3
   },
   "file_extension": ".py",
   "mimetype": "text/x-python",
   "name": "python",
   "nbconvert_exporter": "python",
   "pygments_lexer": "ipython3",
   "version": "3.12.9"
  }
 },
 "nbformat": 4,
 "nbformat_minor": 5
}
