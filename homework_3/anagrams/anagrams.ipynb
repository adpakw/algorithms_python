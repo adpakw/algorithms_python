{
 "cells": [
  {
   "cell_type": "markdown",
   "id": "1f712d5c",
   "metadata": {},
   "source": [
    "# Anagrams\n",
    "\n",
    "Дан список слов. Сгруппируйте слова так, чтобы в одной группе оказались все анаграммы.\n",
    "\n",
    "Требования:\n",
    "\n",
    "* тесты\n",
    "\n",
    "```\n",
    "Input: strs = [\"eat\",\"tea\",\"tan\",\"ate\",\"nat\",\"bat\"]\n",
    "\n",
    "Output: [[\"bat\"],[\"nat\",\"tan\"],[\"ate\",\"eat\",\"tea\"]]\n",
    "```\n",
    "\n",
    "https://leetcode.com/problems/group-anagrams/description/"
   ]
  },
  {
   "cell_type": "markdown",
   "id": "c7e86bf2",
   "metadata": {},
   "source": [
    "# Import"
   ]
  },
  {
   "cell_type": "code",
   "execution_count": 2,
   "id": "6f71194f",
   "metadata": {},
   "outputs": [],
   "source": [
    "import os\n",
    "\n",
    "while os.getcwd().split(\"/\")[-1] != \"algorithms_python\":\n",
    "    os.chdir(os.path.abspath(os.path.join(os.getcwd(), \"..\")))"
   ]
  },
  {
   "cell_type": "markdown",
   "id": "d06e6b1a",
   "metadata": {},
   "source": [
    "# Solution\n",
    "\n",
    "Первая мысль просто взять dict и ключом сделать set, но так нельзя, т.к. set изменяемый тип(\n",
    "\n",
    "**Логика:**\n",
    "- Создаем dict, в котором будем хранить key(отсортированную строку), value(лист с анаграммами)\n",
    "- Идем итератитивно по листу и сортируем строку, если есть в dict ключ = отсортированной строке, то добавляем в value лист слово, иначе создаем лист со словом\n"
   ]
  },
  {
   "cell_type": "code",
   "execution_count": null,
   "id": "df36795d",
   "metadata": {},
   "outputs": [
    {
     "data": {
      "text/plain": [
       "[['eat', 'tea', 'ate'], ['tan', 'nat'], ['bat']]"
      ]
     },
     "execution_count": 5,
     "metadata": {},
     "output_type": "execute_result"
    }
   ],
   "source": [
    "def group_anagrams(strs: list[str]) -> list[list[str]]:\n",
    "    dict_anagrams: dict[str, list[str]] = {}\n",
    "\n",
    "    for str_ in strs:\n",
    "        str_sorted = \"\".join(sorted(str_))\n",
    "        if str_sorted in dict_anagrams:\n",
    "            dict_anagrams[str_sorted].append(str_)\n",
    "        else:\n",
    "            dict_anagrams[str_sorted] = [str_]\n",
    "\n",
    "    return list(dict_anagrams.values())\n",
    "\n",
    "group_anagrmas([\"eat\",\"tea\",\"tan\",\"ate\",\"nat\",\"bat\"])"
   ]
  }
 ],
 "metadata": {
  "kernelspec": {
   "display_name": "algorithms-python-py3.13 (3.13.1)",
   "language": "python",
   "name": "python3"
  },
  "language_info": {
   "codemirror_mode": {
    "name": "ipython",
    "version": 3
   },
   "file_extension": ".py",
   "mimetype": "text/x-python",
   "name": "python",
   "nbconvert_exporter": "python",
   "pygments_lexer": "ipython3",
   "version": "3.13.1"
  }
 },
 "nbformat": 4,
 "nbformat_minor": 5
}
