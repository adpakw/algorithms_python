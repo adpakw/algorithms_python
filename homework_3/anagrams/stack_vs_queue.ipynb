{
 "cells": [
  {
   "cell_type": "markdown",
   "id": "1f712d5c",
   "metadata": {},
   "source": [
    "# Stack vs queue\n",
    "\n",
    "Реализовать стек и очередь на основе связных списков. Без использования сторонних библиотек. \n",
    "\n",
    "Требования:\n",
    "* Напишите тесты, которые проверяют реализацию.\n",
    "* Реализовать тесты можно любым способом (unittest, pytest)\n"
   ]
  },
  {
   "cell_type": "markdown",
   "id": "c7e86bf2",
   "metadata": {},
   "source": [
    "# Import"
   ]
  },
  {
   "cell_type": "code",
   "execution_count": 1,
   "id": "6f71194f",
   "metadata": {},
   "outputs": [],
   "source": [
    "import os\n",
    "\n",
    "while os.getcwd().split(\"/\")[-1] != \"algorithms_python\":\n",
    "    os.chdir(os.path.abspath(os.path.join(os.getcwd(), \"..\")))"
   ]
  },
  {
   "cell_type": "markdown",
   "id": "ad0941d7",
   "metadata": {},
   "source": [
    "# Linked List"
   ]
  },
  {
   "cell_type": "markdown",
   "id": "d1f27be3",
   "metadata": {},
   "source": [
    "![image](../imgs/linked_list.png)"
   ]
  },
  {
   "cell_type": "code",
   "execution_count": 2,
   "id": "c00b38b8",
   "metadata": {},
   "outputs": [],
   "source": [
    "class ListNode:\n",
    "    \"\"\"Нода связного списка\"\"\"\n",
    "    def __init__(self, value):\n",
    "        self.value = value\n",
    "        self.next = None"
   ]
  },
  {
   "cell_type": "markdown",
   "id": "3fe43758",
   "metadata": {},
   "source": [
    "# Stack"
   ]
  },
  {
   "cell_type": "markdown",
   "id": "ce2bbe2c",
   "metadata": {},
   "source": [
    "![image](../imgs/stack.png)"
   ]
  },
  {
   "cell_type": "code",
   "execution_count": null,
   "id": "586d51b2",
   "metadata": {},
   "outputs": [],
   "source": [
    "class Stack:\n",
    "    \"\"\"Стэк на основе связанного списка\"\"\"\n",
    "\n",
    "    def __init__(self):\n",
    "        self.top = None\n",
    "\n",
    "    def push(self, value):\n",
    "        \"\"\"Добавление элемента на вершину стека\"\"\"\n",
    "        new_node = ListNode(value)\n",
    "        new_node.next = self.top\n",
    "        self.top = new_node\n",
    "\n",
    "    def pop(self):\n",
    "        \"\"\"Удаление и возврат элемента с вершины стека\"\"\"\n",
    "        if self.top is None:\n",
    "            raise IndexError(\"Stack is empty\")\n",
    "        value = self.top.value\n",
    "        self.top = self.top.next\n",
    "        return value\n",
    "\n",
    "    def __str__(self):\n",
    "        \"\"\"Отрисовка стека\"\"\"\n",
    "        elements = []\n",
    "        current = self.top\n",
    "        while current:\n",
    "            elements.append(str(current.value))\n",
    "            current = current.next\n",
    "        \n",
    "        if self.top is None:\n",
    "            result = \"empty stack\"\n",
    "        else:\n",
    "            result = \"top\\n |\\n v\\n\" + \"[\" + \" -> \".join(elements) + \"]\"\n",
    "        return result"
   ]
  },
  {
   "cell_type": "code",
   "execution_count": 28,
   "id": "bdd0d16b",
   "metadata": {},
   "outputs": [
    {
     "name": "stdout",
     "output_type": "stream",
     "text": [
      "top\n",
      " |\n",
      " v\n",
      "[9 -> 8 -> 7 -> 6 -> 5 -> 4 -> 3 -> 2 -> 1 -> 0]\n",
      "\n",
      "top\n",
      " |\n",
      " v\n",
      "[8 -> 7 -> 6 -> 5 -> 4 -> 3 -> 2 -> 1 -> 0]\n",
      "\n",
      "empty stack\n"
     ]
    }
   ],
   "source": [
    "stack = Stack()\n",
    "\n",
    "for i in range(10):\n",
    "    stack.push(i)\n",
    "print(stack)\n",
    "print()\n",
    "\n",
    "stack.pop()\n",
    "print(stack)\n",
    "print()\n",
    "\n",
    "stack = Stack()\n",
    "print(stack)"
   ]
  },
  {
   "cell_type": "markdown",
   "id": "887582fa",
   "metadata": {},
   "source": [
    "# Queue"
   ]
  },
  {
   "cell_type": "markdown",
   "id": "565f2f4a",
   "metadata": {},
   "source": [
    "![image](../imgs/queue.png)"
   ]
  },
  {
   "cell_type": "code",
   "execution_count": 36,
   "id": "c8ff4c53",
   "metadata": {},
   "outputs": [],
   "source": [
    "class Queue:\n",
    "    \"\"\"Очередь на основе связанного списка\"\"\"\n",
    "\n",
    "    def __init__(self):\n",
    "        self.head = None\n",
    "        self.tail = None\n",
    "\n",
    "    def enqueue(self, value):\n",
    "        \"\"\"Добавление элемента в конец очереди\"\"\"\n",
    "        new_node = ListNode(value)\n",
    "\n",
    "        if self.head is None and self.tail is None:\n",
    "            self.head = new_node\n",
    "            self.tail = new_node\n",
    "        else:\n",
    "            self.tail.next = new_node\n",
    "            self.tail = new_node\n",
    "\n",
    "    def dequeue(self):\n",
    "        \"\"\"Удаление и возврат элемента из начала очереди\"\"\"\n",
    "        if self.head is None and self.tail is None:\n",
    "            raise IndexError(\"Queue is empty\")\n",
    "\n",
    "        value = self.head.value\n",
    "        self.head = self.head.next\n",
    "        \n",
    "        # Проверка на то, что очередь пустая\n",
    "        if self.head is None:\n",
    "            self.tail = None\n",
    "        \n",
    "        return value\n",
    "\n",
    "    def __str__(self):\n",
    "        \"\"\"Отрисовка стека\"\"\"\n",
    "        elements = []\n",
    "        current = self.head\n",
    "        while current:\n",
    "            elements.append(str(current.value))\n",
    "            current = current.next\n",
    "        if self.head is None and self.tail is None:\n",
    "            result = \"empty queue\"\n",
    "        elif self.head is self.tail:\n",
    "            result = \"head\\n |\\n v\\n\" + \"[\" + \" -> \".join(elements) + \"] <- tail\" \n",
    "        else:\n",
    "            result = \"head\\n |\\n v\\n\" + \"[\" + \" -> \".join(elements) + \"] <- tail\"\n",
    "        return result"
   ]
  },
  {
   "cell_type": "code",
   "execution_count": 43,
   "id": "e5a96100",
   "metadata": {},
   "outputs": [
    {
     "name": "stdout",
     "output_type": "stream",
     "text": [
      "head\n",
      " |\n",
      " v\n",
      "[0 -> 1 -> 2 -> 3 -> 4 -> 5 -> 6 -> 7 -> 8 -> 9] <- tail\n",
      "\n",
      "head\n",
      " |\n",
      " v\n",
      "[1 -> 2 -> 3 -> 4 -> 5 -> 6 -> 7 -> 8 -> 9] <- tail\n",
      "\n",
      "head\n",
      " |\n",
      " v\n",
      "[1] <- tail\n",
      "\n",
      "empty queue\n"
     ]
    }
   ],
   "source": [
    "queue = Queue()\n",
    "\n",
    "for i in range(10):\n",
    "    queue.enqueue(i)\n",
    "print(queue)\n",
    "print()\n",
    "\n",
    "queue.dequeue()\n",
    "print(queue)\n",
    "print()\n",
    "\n",
    "queue = Queue()\n",
    "queue.enqueue(1)\n",
    "print(queue)\n",
    "print()\n",
    "\n",
    "queue = Queue()\n",
    "print(queue)"
   ]
  }
 ],
 "metadata": {
  "kernelspec": {
   "display_name": "algorithms-python-py3.13 (3.13.1)",
   "language": "python",
   "name": "python3"
  },
  "language_info": {
   "codemirror_mode": {
    "name": "ipython",
    "version": 3
   },
   "file_extension": ".py",
   "mimetype": "text/x-python",
   "name": "python",
   "nbconvert_exporter": "python",
   "pygments_lexer": "ipython3",
   "version": "3.13.1"
  }
 },
 "nbformat": 4,
 "nbformat_minor": 5
}
