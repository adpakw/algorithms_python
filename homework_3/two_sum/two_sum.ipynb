{
 "cells": [
  {
   "cell_type": "markdown",
   "id": "c5dfa3c4",
   "metadata": {},
   "source": [
    "# Two sum\n",
    "\n",
    "Дан массив целых чисел arr и целое число k. Нужно найти индексы двух элементов, сумма которых равна k\n",
    "\n",
    "Гарантируется, что такая пара будет ровно одна. В качестве ответа выпишите 2 индекса через пробел в порядке возрастания.\n",
    "\n",
    "Требования:\n",
    "* Напишите тесты, которые проверяют функцию на разных случаях.\n",
    "\n",
    "```\n",
    "Вход: arr = [1, 3, 4, 10], k = 7.\n",
    "\n",
    "Выход: 1, 2\n",
    "```\n",
    "\n",
    "```\n",
    "Вход: arr = [5, 5, 1, 4], k = 10.\n",
    "\n",
    "Выход: 0, 1\n",
    "```\n",
    "\n",
    "https://leetcode.com/problems/two-sum/description/"
   ]
  },
  {
   "cell_type": "markdown",
   "id": "ed151e9c",
   "metadata": {},
   "source": [
    "# Import"
   ]
  },
  {
   "cell_type": "code",
   "execution_count": 1,
   "id": "dfe689c3",
   "metadata": {},
   "outputs": [],
   "source": [
    "import os\n",
    "\n",
    "while os.getcwd().split(\"/\")[-1] != \"algorithms_python\":\n",
    "    os.chdir(os.path.abspath(os.path.join(os.getcwd(), \"..\")))"
   ]
  },
  {
   "cell_type": "markdown",
   "id": "baef2b38",
   "metadata": {},
   "source": [
    "# Solution"
   ]
  },
  {
   "cell_type": "markdown",
   "id": "81243ad9",
   "metadata": {},
   "source": [
    "**Логика:**\n",
    "- Создаем dict, в котором будем хранить key(k - элемент листа), value(индекс листа)\n",
    "- Идем итератитивно по листу, если есть в dict ключ = элементу листа, то выводим (значение для данного ключа, индекс элемента листа)\n",
    "- высчитываем {k - элемент листа}, если ключа = {k - элемент листа} нет в dict, то кладем в dict key={k - элемент листа}, value=индекса элемента листа"
   ]
  },
  {
   "cell_type": "code",
   "execution_count": 17,
   "id": "6286884e",
   "metadata": {},
   "outputs": [
    {
     "name": "stdout",
     "output_type": "stream",
     "text": [
      "(1, 2)\n",
      "(0, 1)\n",
      "(0, 0)\n",
      "(0, 0)\n",
      "(0, 0)\n"
     ]
    }
   ],
   "source": [
    "def calc_two_sum(arr: list[int], k: int) -> tuple[int, int]:\n",
    "    residuals: dict[int, int] = {}\n",
    "\n",
    "    for i in range(len(arr)):\n",
    "        if arr[i] in residuals:\n",
    "            return residuals[arr[i]], i\n",
    "\n",
    "        residual = k - arr[i]\n",
    "        if residual not in residuals:\n",
    "            residuals[residual] = i\n",
    "\n",
    "    return (0, 0)\n",
    "\n",
    "\n",
    "print(calc_two_sum(arr=[1, 3, 4, 10], k=7))\n",
    "print(calc_two_sum(arr=[5, 5, 1, 4], k=10))\n",
    "print(calc_two_sum(arr=[5, 5, 1, 4], k=11))\n",
    "print(calc_two_sum(arr=[11], k=11))\n",
    "print(calc_two_sum(arr=[], k=11))"
   ]
  }
 ],
 "metadata": {
  "kernelspec": {
   "display_name": "algorithms-python-py3.13 (3.13.1)",
   "language": "python",
   "name": "python3"
  },
  "language_info": {
   "codemirror_mode": {
    "name": "ipython",
    "version": 3
   },
   "file_extension": ".py",
   "mimetype": "text/x-python",
   "name": "python",
   "nbconvert_exporter": "python",
   "pygments_lexer": "ipython3",
   "version": "3.13.1"
  }
 },
 "nbformat": 4,
 "nbformat_minor": 5
}
