{
 "cells": [
  {
   "cell_type": "markdown",
   "id": "c5dfa3c4",
   "metadata": {},
   "source": [
    "# Tracer\n",
    "\n",
    "Реализовать декоратор, который показывает стек вызовов рекурсивных функций\n",
    "\n",
    "На каждом шаге должен быть виден:\n",
    "* вход в рекурсию (вызов функции),\n",
    "* отступ, соответствующий глубине стека,\n",
    "* возврат из рекурсии с результатом"
   ]
  },
  {
   "cell_type": "markdown",
   "id": "ed151e9c",
   "metadata": {},
   "source": [
    "# Import"
   ]
  },
  {
   "cell_type": "code",
   "execution_count": 1,
   "id": "dfe689c3",
   "metadata": {},
   "outputs": [],
   "source": [
    "import os\n",
    "\n",
    "while os.getcwd().split(\"/\")[-1] != \"algorithms_python\":\n",
    "    os.chdir(os.path.abspath(os.path.join(os.getcwd(), \"..\")))"
   ]
  },
  {
   "cell_type": "code",
   "execution_count": null,
   "id": "d0d58580",
   "metadata": {},
   "outputs": [],
   "source": [
    "from typing import Any, Callable, List, Optional"
   ]
  },
  {
   "cell_type": "markdown",
   "id": "9807e038",
   "metadata": {},
   "source": [
    "# trace_recursion"
   ]
  },
  {
   "cell_type": "code",
   "execution_count": 42,
   "id": "98b57515",
   "metadata": {},
   "outputs": [],
   "source": [
    "def trace_recursion(func: Callable) -> Callable:\n",
    "    \"\"\"Декоратор для отслеживания стека вызовов рекурсивных функций\"\"\"\n",
    "\n",
    "    depth = 0  # для отрисовки отступов\n",
    "\n",
    "    def wrapper(*args, **kwargs):\n",
    "        nonlocal depth  # используется для изменения переменных во вложенной функции, global нельзя\n",
    "        indent = \"\\t\" * depth\n",
    "        print(f\"{indent}->{func.__name__}{args}\")\n",
    "        depth += 1\n",
    "\n",
    "        try:\n",
    "            result = func(*args, **kwargs)\n",
    "            depth -= 1\n",
    "            print(f\"{indent}<-{func.__name__}{args} = {result}\")\n",
    "            return result\n",
    "\n",
    "        except Exception as e:\n",
    "            depth -= 1\n",
    "            print(f\"{indent}ERROR: {func.__name__}{args} raised {type(e).__name__}: {e}\")\n",
    "            raise\n",
    "\n",
    "    return wrapper"
   ]
  },
  {
   "cell_type": "code",
   "execution_count": 45,
   "id": "407a9353",
   "metadata": {},
   "outputs": [],
   "source": [
    "@trace_recursion\n",
    "def factorial(n):\n",
    "    if n <= 1:\n",
    "        return 1\n",
    "    return n * factorial(n - 1)\n"
   ]
  },
  {
   "cell_type": "code",
   "execution_count": 46,
   "id": "8efacb35",
   "metadata": {},
   "outputs": [
    {
     "name": "stdout",
     "output_type": "stream",
     "text": [
      "->factorial(4,)\n",
      "\t->factorial(3,)\n",
      "\t\t->factorial(2,)\n",
      "\t\t\t->factorial(1,)\n",
      "\t\t\t<-factorial(1,) = 1\n",
      "\t\t<-factorial(2,) = 2\n",
      "\t<-factorial(3,) = 6\n",
      "<-factorial(4,) = 24\n"
     ]
    },
    {
     "data": {
      "text/plain": [
       "24"
      ]
     },
     "execution_count": 46,
     "metadata": {},
     "output_type": "execute_result"
    }
   ],
   "source": [
    "factorial(4)"
   ]
  },
  {
   "cell_type": "code",
   "execution_count": null,
   "id": "3ee191f4",
   "metadata": {},
   "outputs": [],
   "source": [
    "@trace_recursion\n",
    "def fibonacci(n):\n",
    "    if n <= 1:\n",
    "        return n\n",
    "    return fibonacci(n - 1) + fibonacci(n - 2)"
   ]
  },
  {
   "cell_type": "code",
   "execution_count": null,
   "id": "751ca8f5",
   "metadata": {},
   "outputs": [
    {
     "name": "stdout",
     "output_type": "stream",
     "text": [
      "->fibonacci(4,)\n",
      "\t->fibonacci(3,)\n",
      "\t\t->fibonacci(2,)\n",
      "\t\t\t->fibonacci(1,)\n",
      "\t\t\t<-fibonacci(1,) = 1\n",
      "\t\t\t->fibonacci(0,)\n",
      "\t\t\t<-fibonacci(0,) = 0\n",
      "\t\t<-fibonacci(2,) = 1\n",
      "\t\t->fibonacci(1,)\n",
      "\t\t<-fibonacci(1,) = 1\n",
      "\t<-fibonacci(3,) = 2\n",
      "\t->fibonacci(2,)\n",
      "\t\t->fibonacci(1,)\n",
      "\t\t<-fibonacci(1,) = 1\n",
      "\t\t->fibonacci(0,)\n",
      "\t\t<-fibonacci(0,) = 0\n",
      "\t<-fibonacci(2,) = 1\n",
      "<-fibonacci(4,) = 3\n"
     ]
    },
    {
     "data": {
      "text/plain": [
       "3"
      ]
     },
     "execution_count": 48,
     "metadata": {},
     "output_type": "execute_result"
    }
   ],
   "source": [
    "fibonacci(4)"
   ]
  }
 ],
 "metadata": {
  "kernelspec": {
   "display_name": "algorithms-python-py3.12",
   "language": "python",
   "name": "python3"
  },
  "language_info": {
   "codemirror_mode": {
    "name": "ipython",
    "version": 3
   },
   "file_extension": ".py",
   "mimetype": "text/x-python",
   "name": "python",
   "nbconvert_exporter": "python",
   "pygments_lexer": "ipython3",
   "version": "3.12.9"
  }
 },
 "nbformat": 4,
 "nbformat_minor": 5
}
