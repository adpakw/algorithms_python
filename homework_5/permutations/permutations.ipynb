{
 "cells": [
  {
   "cell_type": "markdown",
   "id": "1f712d5c",
   "metadata": {},
   "source": [
    "# Permutations\n",
    "\n",
    "На вход дан массив. Необходимо вернуть все возможные перестановки. \n",
    "\n",
    "Вход: nums = [1,2,3]\n",
    "\n",
    "Выход: [[1,2,3],[1,3,2],[2,1,3],[2,3,1],[3,1,2],[3,2,1]]\n",
    "\n",
    "Вход: nums = [0,1]\n",
    "\n",
    "Выход: [[0,1],[1,0]]\n",
    "\n",
    "Вход: nums = [1]\n",
    "\n",
    "Выход: [[1]]\n",
    "\n",
    "Обязательно: в реализации предусмотреть визуализацию стека вызовов, в идеале использовать декоратор из первой задачи.\n",
    "\n",
    "Тесты продолжаем писать.\n",
    "\n",
    "https://leetcode.com/problems/permutations/description/"
   ]
  },
  {
   "cell_type": "markdown",
   "id": "c7e86bf2",
   "metadata": {},
   "source": [
    "# Import"
   ]
  },
  {
   "cell_type": "code",
   "execution_count": 2,
   "id": "6f71194f",
   "metadata": {},
   "outputs": [],
   "source": [
    "import os\n",
    "\n",
    "while os.getcwd().split(\"/\")[-1] != \"algorithms_python\":\n",
    "    os.chdir(os.path.abspath(os.path.join(os.getcwd(), \"..\")))"
   ]
  },
  {
   "cell_type": "code",
   "execution_count": 3,
   "id": "807b720e",
   "metadata": {},
   "outputs": [],
   "source": [
    "from typing import Any, List, Optional, Callable"
   ]
  },
  {
   "cell_type": "markdown",
   "id": "4461c884",
   "metadata": {},
   "source": [
    "# trace_recursion"
   ]
  },
  {
   "cell_type": "code",
   "execution_count": 4,
   "id": "2a4a6687",
   "metadata": {},
   "outputs": [],
   "source": [
    "def trace_recursion(func: Callable) -> Callable:\n",
    "    \"\"\"Декоратор для отслеживания стека вызовов рекурсивных функций\"\"\"\n",
    "\n",
    "    depth = 0  # для отрисовки отступов\n",
    "\n",
    "    def wrapper(*args, **kwargs):\n",
    "        nonlocal depth  # используется для изменения переменных во вложенной функции, global нельзя\n",
    "        indent = \"\\t\" * depth\n",
    "        print(f\"{indent}->{func.__name__}{args}\")\n",
    "        depth += 1\n",
    "\n",
    "        try:\n",
    "            result = func(*args, **kwargs)\n",
    "            depth -= 1\n",
    "            print(f\"{indent}<-{func.__name__}{args} = {result}\")\n",
    "            return result\n",
    "\n",
    "        except Exception as e:\n",
    "            depth -= 1\n",
    "            print(f\"{indent}ERROR: {func.__name__}{args} raised {type(e).__name__}: {e}\")\n",
    "            raise\n",
    "\n",
    "    return wrapper"
   ]
  },
  {
   "cell_type": "markdown",
   "id": "d06e6b1a",
   "metadata": {},
   "source": [
    "# Solution\n",
    "\n",
    "Вообще можно реализовать без копирования исходного листа в \"perm_list\", тогда ничего не поменяется, а Space complexity будет O(n). Реализовано с копированием листа для репрезентативности работы алгоритма.\n",
    "\n",
    "Не успеваю красиво отрисовать поэтому в этот раз скрин того, что брал за идею (что разбирал в итоге)\n",
    "\n",
    "![img1](../imgs/permutations1.png)\n",
    "\n",
    "![img2](../imgs/permutations2.png)"
   ]
  },
  {
   "cell_type": "code",
   "execution_count": null,
   "id": "768fcde8",
   "metadata": {},
   "outputs": [],
   "source": [
    "@trace_recursion\n",
    "def permute(nums: List[Any]) -> List[List[Any]]:\n",
    "    @trace_recursion\n",
    "    def backtrack(index: Any, perm_list: List[Any]):\n",
    "        if index == len(perm_list):\n",
    "            result.append(perm_list[:])\n",
    "            return\n",
    "\n",
    "        for i in range(index, len(perm_list)):\n",
    "            perm_list[index], perm_list[i] = (\n",
    "                perm_list[i],\n",
    "                perm_list[index],\n",
    "            )  # меняем местами элементы\n",
    "            backtrack(index + 1, perm_list)\n",
    "            perm_list[index], perm_list[i] = (\n",
    "                perm_list[i],\n",
    "                perm_list[index],\n",
    "            )  # возвращаем массив в исходное состояние\n",
    "\n",
    "    result: List[Any] = []\n",
    "    backtrack(0, nums)\n",
    "    return result"
   ]
  },
  {
   "cell_type": "code",
   "execution_count": 23,
   "id": "44442975",
   "metadata": {},
   "outputs": [
    {
     "name": "stdout",
     "output_type": "stream",
     "text": [
      "->permute([1, 2],)\n",
      "->backtrack(0, [1, 2])\n",
      "\t->backtrack(1, [1, 2])\n",
      "\t\t->backtrack(2, [1, 2])\n",
      "\t\t<-backtrack(2, [1, 2]) = None\n",
      "\t<-backtrack(1, [1, 2]) = None\n",
      "\t->backtrack(1, [2, 1])\n",
      "\t\t->backtrack(2, [2, 1])\n",
      "\t\t<-backtrack(2, [2, 1]) = None\n",
      "\t<-backtrack(1, [2, 1]) = None\n",
      "<-backtrack(0, [1, 2]) = None\n",
      "<-permute([1, 2],) = [[1, 2], [2, 1]]\n"
     ]
    },
    {
     "data": {
      "text/plain": [
       "[[1, 2], [2, 1]]"
      ]
     },
     "execution_count": 23,
     "metadata": {},
     "output_type": "execute_result"
    }
   ],
   "source": [
    "permute([1, 2])"
   ]
  },
  {
   "cell_type": "code",
   "execution_count": 24,
   "id": "97d4fd71",
   "metadata": {},
   "outputs": [
    {
     "name": "stdout",
     "output_type": "stream",
     "text": [
      "->permute([1, 2, 3],)\n",
      "->backtrack(0, [1, 2, 3])\n",
      "\t->backtrack(1, [1, 2, 3])\n",
      "\t\t->backtrack(2, [1, 2, 3])\n",
      "\t\t\t->backtrack(3, [1, 2, 3])\n",
      "\t\t\t<-backtrack(3, [1, 2, 3]) = None\n",
      "\t\t<-backtrack(2, [1, 2, 3]) = None\n",
      "\t\t->backtrack(2, [1, 3, 2])\n",
      "\t\t\t->backtrack(3, [1, 3, 2])\n",
      "\t\t\t<-backtrack(3, [1, 3, 2]) = None\n",
      "\t\t<-backtrack(2, [1, 3, 2]) = None\n",
      "\t<-backtrack(1, [1, 2, 3]) = None\n",
      "\t->backtrack(1, [2, 1, 3])\n",
      "\t\t->backtrack(2, [2, 1, 3])\n",
      "\t\t\t->backtrack(3, [2, 1, 3])\n",
      "\t\t\t<-backtrack(3, [2, 1, 3]) = None\n",
      "\t\t<-backtrack(2, [2, 1, 3]) = None\n",
      "\t\t->backtrack(2, [2, 3, 1])\n",
      "\t\t\t->backtrack(3, [2, 3, 1])\n",
      "\t\t\t<-backtrack(3, [2, 3, 1]) = None\n",
      "\t\t<-backtrack(2, [2, 3, 1]) = None\n",
      "\t<-backtrack(1, [2, 1, 3]) = None\n",
      "\t->backtrack(1, [3, 2, 1])\n",
      "\t\t->backtrack(2, [3, 2, 1])\n",
      "\t\t\t->backtrack(3, [3, 2, 1])\n",
      "\t\t\t<-backtrack(3, [3, 2, 1]) = None\n",
      "\t\t<-backtrack(2, [3, 2, 1]) = None\n",
      "\t\t->backtrack(2, [3, 1, 2])\n",
      "\t\t\t->backtrack(3, [3, 1, 2])\n",
      "\t\t\t<-backtrack(3, [3, 1, 2]) = None\n",
      "\t\t<-backtrack(2, [3, 1, 2]) = None\n",
      "\t<-backtrack(1, [3, 2, 1]) = None\n",
      "<-backtrack(0, [1, 2, 3]) = None\n",
      "<-permute([1, 2, 3],) = [[1, 2, 3], [1, 3, 2], [2, 1, 3], [2, 3, 1], [3, 2, 1], [3, 1, 2]]\n"
     ]
    },
    {
     "data": {
      "text/plain": [
       "[[1, 2, 3], [1, 3, 2], [2, 1, 3], [2, 3, 1], [3, 2, 1], [3, 1, 2]]"
      ]
     },
     "execution_count": 24,
     "metadata": {},
     "output_type": "execute_result"
    }
   ],
   "source": [
    "permute([1,2,3])"
   ]
  },
  {
   "cell_type": "code",
   "execution_count": 25,
   "id": "0edb4c16",
   "metadata": {},
   "outputs": [
    {
     "name": "stdout",
     "output_type": "stream",
     "text": [
      "->permute([1],)\n",
      "->backtrack(0, [1])\n",
      "\t->backtrack(1, [1])\n",
      "\t<-backtrack(1, [1]) = None\n",
      "<-backtrack(0, [1]) = None\n",
      "<-permute([1],) = [[1]]\n"
     ]
    },
    {
     "data": {
      "text/plain": [
       "[[1]]"
      ]
     },
     "execution_count": 25,
     "metadata": {},
     "output_type": "execute_result"
    }
   ],
   "source": [
    "permute([1])"
   ]
  },
  {
   "cell_type": "code",
   "execution_count": 29,
   "id": "da4b522e",
   "metadata": {},
   "outputs": [
    {
     "name": "stdout",
     "output_type": "stream",
     "text": [
      "->permute([1, 2, 3, 4],)\n",
      "->backtrack(0, [1, 2, 3, 4])\n",
      "\t->backtrack(1, [1, 2, 3, 4])\n",
      "\t\t->backtrack(2, [1, 2, 3, 4])\n",
      "\t\t\t->backtrack(3, [1, 2, 3, 4])\n",
      "\t\t\t\t->backtrack(4, [1, 2, 3, 4])\n",
      "\t\t\t\t<-backtrack(4, [1, 2, 3, 4]) = None\n",
      "\t\t\t<-backtrack(3, [1, 2, 3, 4]) = None\n",
      "\t\t\t->backtrack(3, [1, 2, 4, 3])\n",
      "\t\t\t\t->backtrack(4, [1, 2, 4, 3])\n",
      "\t\t\t\t<-backtrack(4, [1, 2, 4, 3]) = None\n",
      "\t\t\t<-backtrack(3, [1, 2, 4, 3]) = None\n",
      "\t\t<-backtrack(2, [1, 2, 3, 4]) = None\n",
      "\t\t->backtrack(2, [1, 3, 2, 4])\n",
      "\t\t\t->backtrack(3, [1, 3, 2, 4])\n",
      "\t\t\t\t->backtrack(4, [1, 3, 2, 4])\n",
      "\t\t\t\t<-backtrack(4, [1, 3, 2, 4]) = None\n",
      "\t\t\t<-backtrack(3, [1, 3, 2, 4]) = None\n",
      "\t\t\t->backtrack(3, [1, 3, 4, 2])\n",
      "\t\t\t\t->backtrack(4, [1, 3, 4, 2])\n",
      "\t\t\t\t<-backtrack(4, [1, 3, 4, 2]) = None\n",
      "\t\t\t<-backtrack(3, [1, 3, 4, 2]) = None\n",
      "\t\t<-backtrack(2, [1, 3, 2, 4]) = None\n",
      "\t\t->backtrack(2, [1, 4, 3, 2])\n",
      "\t\t\t->backtrack(3, [1, 4, 3, 2])\n",
      "\t\t\t\t->backtrack(4, [1, 4, 3, 2])\n",
      "\t\t\t\t<-backtrack(4, [1, 4, 3, 2]) = None\n",
      "\t\t\t<-backtrack(3, [1, 4, 3, 2]) = None\n",
      "\t\t\t->backtrack(3, [1, 4, 2, 3])\n",
      "\t\t\t\t->backtrack(4, [1, 4, 2, 3])\n",
      "\t\t\t\t<-backtrack(4, [1, 4, 2, 3]) = None\n",
      "\t\t\t<-backtrack(3, [1, 4, 2, 3]) = None\n",
      "\t\t<-backtrack(2, [1, 4, 3, 2]) = None\n",
      "\t<-backtrack(1, [1, 2, 3, 4]) = None\n",
      "\t->backtrack(1, [2, 1, 3, 4])\n",
      "\t\t->backtrack(2, [2, 1, 3, 4])\n",
      "\t\t\t->backtrack(3, [2, 1, 3, 4])\n",
      "\t\t\t\t->backtrack(4, [2, 1, 3, 4])\n",
      "\t\t\t\t<-backtrack(4, [2, 1, 3, 4]) = None\n",
      "\t\t\t<-backtrack(3, [2, 1, 3, 4]) = None\n",
      "\t\t\t->backtrack(3, [2, 1, 4, 3])\n",
      "\t\t\t\t->backtrack(4, [2, 1, 4, 3])\n",
      "\t\t\t\t<-backtrack(4, [2, 1, 4, 3]) = None\n",
      "\t\t\t<-backtrack(3, [2, 1, 4, 3]) = None\n",
      "\t\t<-backtrack(2, [2, 1, 3, 4]) = None\n",
      "\t\t->backtrack(2, [2, 3, 1, 4])\n",
      "\t\t\t->backtrack(3, [2, 3, 1, 4])\n",
      "\t\t\t\t->backtrack(4, [2, 3, 1, 4])\n",
      "\t\t\t\t<-backtrack(4, [2, 3, 1, 4]) = None\n",
      "\t\t\t<-backtrack(3, [2, 3, 1, 4]) = None\n",
      "\t\t\t->backtrack(3, [2, 3, 4, 1])\n",
      "\t\t\t\t->backtrack(4, [2, 3, 4, 1])\n",
      "\t\t\t\t<-backtrack(4, [2, 3, 4, 1]) = None\n",
      "\t\t\t<-backtrack(3, [2, 3, 4, 1]) = None\n",
      "\t\t<-backtrack(2, [2, 3, 1, 4]) = None\n",
      "\t\t->backtrack(2, [2, 4, 3, 1])\n",
      "\t\t\t->backtrack(3, [2, 4, 3, 1])\n",
      "\t\t\t\t->backtrack(4, [2, 4, 3, 1])\n",
      "\t\t\t\t<-backtrack(4, [2, 4, 3, 1]) = None\n",
      "\t\t\t<-backtrack(3, [2, 4, 3, 1]) = None\n",
      "\t\t\t->backtrack(3, [2, 4, 1, 3])\n",
      "\t\t\t\t->backtrack(4, [2, 4, 1, 3])\n",
      "\t\t\t\t<-backtrack(4, [2, 4, 1, 3]) = None\n",
      "\t\t\t<-backtrack(3, [2, 4, 1, 3]) = None\n",
      "\t\t<-backtrack(2, [2, 4, 3, 1]) = None\n",
      "\t<-backtrack(1, [2, 1, 3, 4]) = None\n",
      "\t->backtrack(1, [3, 2, 1, 4])\n",
      "\t\t->backtrack(2, [3, 2, 1, 4])\n",
      "\t\t\t->backtrack(3, [3, 2, 1, 4])\n",
      "\t\t\t\t->backtrack(4, [3, 2, 1, 4])\n",
      "\t\t\t\t<-backtrack(4, [3, 2, 1, 4]) = None\n",
      "\t\t\t<-backtrack(3, [3, 2, 1, 4]) = None\n",
      "\t\t\t->backtrack(3, [3, 2, 4, 1])\n",
      "\t\t\t\t->backtrack(4, [3, 2, 4, 1])\n",
      "\t\t\t\t<-backtrack(4, [3, 2, 4, 1]) = None\n",
      "\t\t\t<-backtrack(3, [3, 2, 4, 1]) = None\n",
      "\t\t<-backtrack(2, [3, 2, 1, 4]) = None\n",
      "\t\t->backtrack(2, [3, 1, 2, 4])\n",
      "\t\t\t->backtrack(3, [3, 1, 2, 4])\n",
      "\t\t\t\t->backtrack(4, [3, 1, 2, 4])\n",
      "\t\t\t\t<-backtrack(4, [3, 1, 2, 4]) = None\n",
      "\t\t\t<-backtrack(3, [3, 1, 2, 4]) = None\n",
      "\t\t\t->backtrack(3, [3, 1, 4, 2])\n",
      "\t\t\t\t->backtrack(4, [3, 1, 4, 2])\n",
      "\t\t\t\t<-backtrack(4, [3, 1, 4, 2]) = None\n",
      "\t\t\t<-backtrack(3, [3, 1, 4, 2]) = None\n",
      "\t\t<-backtrack(2, [3, 1, 2, 4]) = None\n",
      "\t\t->backtrack(2, [3, 4, 1, 2])\n",
      "\t\t\t->backtrack(3, [3, 4, 1, 2])\n",
      "\t\t\t\t->backtrack(4, [3, 4, 1, 2])\n",
      "\t\t\t\t<-backtrack(4, [3, 4, 1, 2]) = None\n",
      "\t\t\t<-backtrack(3, [3, 4, 1, 2]) = None\n",
      "\t\t\t->backtrack(3, [3, 4, 2, 1])\n",
      "\t\t\t\t->backtrack(4, [3, 4, 2, 1])\n",
      "\t\t\t\t<-backtrack(4, [3, 4, 2, 1]) = None\n",
      "\t\t\t<-backtrack(3, [3, 4, 2, 1]) = None\n",
      "\t\t<-backtrack(2, [3, 4, 1, 2]) = None\n",
      "\t<-backtrack(1, [3, 2, 1, 4]) = None\n",
      "\t->backtrack(1, [4, 2, 3, 1])\n",
      "\t\t->backtrack(2, [4, 2, 3, 1])\n",
      "\t\t\t->backtrack(3, [4, 2, 3, 1])\n",
      "\t\t\t\t->backtrack(4, [4, 2, 3, 1])\n",
      "\t\t\t\t<-backtrack(4, [4, 2, 3, 1]) = None\n",
      "\t\t\t<-backtrack(3, [4, 2, 3, 1]) = None\n",
      "\t\t\t->backtrack(3, [4, 2, 1, 3])\n",
      "\t\t\t\t->backtrack(4, [4, 2, 1, 3])\n",
      "\t\t\t\t<-backtrack(4, [4, 2, 1, 3]) = None\n",
      "\t\t\t<-backtrack(3, [4, 2, 1, 3]) = None\n",
      "\t\t<-backtrack(2, [4, 2, 3, 1]) = None\n",
      "\t\t->backtrack(2, [4, 3, 2, 1])\n",
      "\t\t\t->backtrack(3, [4, 3, 2, 1])\n",
      "\t\t\t\t->backtrack(4, [4, 3, 2, 1])\n",
      "\t\t\t\t<-backtrack(4, [4, 3, 2, 1]) = None\n",
      "\t\t\t<-backtrack(3, [4, 3, 2, 1]) = None\n",
      "\t\t\t->backtrack(3, [4, 3, 1, 2])\n",
      "\t\t\t\t->backtrack(4, [4, 3, 1, 2])\n",
      "\t\t\t\t<-backtrack(4, [4, 3, 1, 2]) = None\n",
      "\t\t\t<-backtrack(3, [4, 3, 1, 2]) = None\n",
      "\t\t<-backtrack(2, [4, 3, 2, 1]) = None\n",
      "\t\t->backtrack(2, [4, 1, 3, 2])\n",
      "\t\t\t->backtrack(3, [4, 1, 3, 2])\n",
      "\t\t\t\t->backtrack(4, [4, 1, 3, 2])\n",
      "\t\t\t\t<-backtrack(4, [4, 1, 3, 2]) = None\n",
      "\t\t\t<-backtrack(3, [4, 1, 3, 2]) = None\n",
      "\t\t\t->backtrack(3, [4, 1, 2, 3])\n",
      "\t\t\t\t->backtrack(4, [4, 1, 2, 3])\n",
      "\t\t\t\t<-backtrack(4, [4, 1, 2, 3]) = None\n",
      "\t\t\t<-backtrack(3, [4, 1, 2, 3]) = None\n",
      "\t\t<-backtrack(2, [4, 1, 3, 2]) = None\n",
      "\t<-backtrack(1, [4, 2, 3, 1]) = None\n",
      "<-backtrack(0, [1, 2, 3, 4]) = None\n",
      "<-permute([1, 2, 3, 4],) = [[1, 2, 3, 4], [1, 2, 4, 3], [1, 3, 2, 4], [1, 3, 4, 2], [1, 4, 3, 2], [1, 4, 2, 3], [2, 1, 3, 4], [2, 1, 4, 3], [2, 3, 1, 4], [2, 3, 4, 1], [2, 4, 3, 1], [2, 4, 1, 3], [3, 2, 1, 4], [3, 2, 4, 1], [3, 1, 2, 4], [3, 1, 4, 2], [3, 4, 1, 2], [3, 4, 2, 1], [4, 2, 3, 1], [4, 2, 1, 3], [4, 3, 2, 1], [4, 3, 1, 2], [4, 1, 3, 2], [4, 1, 2, 3]]\n"
     ]
    },
    {
     "data": {
      "text/plain": [
       "[[1, 2, 3, 4],\n",
       " [1, 2, 4, 3],\n",
       " [1, 3, 2, 4],\n",
       " [1, 3, 4, 2],\n",
       " [1, 4, 3, 2],\n",
       " [1, 4, 2, 3],\n",
       " [2, 1, 3, 4],\n",
       " [2, 1, 4, 3],\n",
       " [2, 3, 1, 4],\n",
       " [2, 3, 4, 1],\n",
       " [2, 4, 3, 1],\n",
       " [2, 4, 1, 3],\n",
       " [3, 2, 1, 4],\n",
       " [3, 2, 4, 1],\n",
       " [3, 1, 2, 4],\n",
       " [3, 1, 4, 2],\n",
       " [3, 4, 1, 2],\n",
       " [3, 4, 2, 1],\n",
       " [4, 2, 3, 1],\n",
       " [4, 2, 1, 3],\n",
       " [4, 3, 2, 1],\n",
       " [4, 3, 1, 2],\n",
       " [4, 1, 3, 2],\n",
       " [4, 1, 2, 3]]"
      ]
     },
     "execution_count": 29,
     "metadata": {},
     "output_type": "execute_result"
    }
   ],
   "source": [
    "permute([1, 2, 3, 4])"
   ]
  }
 ],
 "metadata": {
  "kernelspec": {
   "display_name": "algorithms-python-py3.12",
   "language": "python",
   "name": "python3"
  },
  "language_info": {
   "codemirror_mode": {
    "name": "ipython",
    "version": 3
   },
   "file_extension": ".py",
   "mimetype": "text/x-python",
   "name": "python",
   "nbconvert_exporter": "python",
   "pygments_lexer": "ipython3",
   "version": "3.12.9"
  }
 },
 "nbformat": 4,
 "nbformat_minor": 5
}
