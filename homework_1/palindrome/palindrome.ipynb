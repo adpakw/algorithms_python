{
 "cells": [
  {
   "cell_type": "markdown",
   "id": "1f712d5c",
   "metadata": {},
   "source": [
    "# Palindrome\n",
    "\n",
    "Write a program that checks a positive integer number is a palindrome.\n",
    "Do this without using strings.\n",
    "Requirements:\n",
    "* Write tests that test the function on different cases.\n",
    "* You can implement tests in any way (unittest, pytest)"
   ]
  },
  {
   "cell_type": "markdown",
   "id": "c7e86bf2",
   "metadata": {},
   "source": [
    "# Import"
   ]
  },
  {
   "cell_type": "code",
   "execution_count": 8,
   "id": "6f71194f",
   "metadata": {},
   "outputs": [],
   "source": [
    "import os\n",
    "\n",
    "while os.getcwd().split(\"/\")[-1] != \"algorithms_python\":\n",
    "    os.chdir(os.path.abspath(os.path.join(os.getcwd(), \"..\")))"
   ]
  },
  {
   "cell_type": "markdown",
   "id": "3fe43758",
   "metadata": {},
   "source": [
    "# Function"
   ]
  },
  {
   "cell_type": "markdown",
   "id": "ce2bbe2c",
   "metadata": {},
   "source": [
    "![image](../imgs/palindrome.png)"
   ]
  },
  {
   "cell_type": "code",
   "execution_count": 9,
   "id": "bdd0d16b",
   "metadata": {},
   "outputs": [],
   "source": [
    "def is_palindrome(number: int) -> bool:\n",
    "    if number < 0:\n",
    "        return False\n",
    "    cur = 0\n",
    "    buff = number\n",
    "    while buff != 0:\n",
    "        digit = buff % 10\n",
    "        cur = cur * 10 + digit\n",
    "        buff //= 10\n",
    "    return cur == number"
   ]
  },
  {
   "cell_type": "markdown",
   "id": "887582fa",
   "metadata": {},
   "source": [
    "# Test"
   ]
  },
  {
   "cell_type": "code",
   "execution_count": 30,
   "id": "c8ff4c53",
   "metadata": {},
   "outputs": [
    {
     "data": {
      "text/plain": [
       "False"
      ]
     },
     "execution_count": 30,
     "metadata": {},
     "output_type": "execute_result"
    }
   ],
   "source": [
    "is_palindrome(-1)"
   ]
  },
  {
   "cell_type": "code",
   "execution_count": 31,
   "id": "3365e9c3",
   "metadata": {},
   "outputs": [
    {
     "data": {
      "text/plain": [
       "True"
      ]
     },
     "execution_count": 31,
     "metadata": {},
     "output_type": "execute_result"
    }
   ],
   "source": [
    "is_palindrome(0)"
   ]
  },
  {
   "cell_type": "code",
   "execution_count": 32,
   "id": "a864b6e5",
   "metadata": {},
   "outputs": [
    {
     "data": {
      "text/plain": [
       "False"
      ]
     },
     "execution_count": 32,
     "metadata": {},
     "output_type": "execute_result"
    }
   ],
   "source": [
    "is_palindrome(12345)"
   ]
  },
  {
   "cell_type": "code",
   "execution_count": 33,
   "id": "72d7a9bf",
   "metadata": {},
   "outputs": [
    {
     "data": {
      "text/plain": [
       "True"
      ]
     },
     "execution_count": 33,
     "metadata": {},
     "output_type": "execute_result"
    }
   ],
   "source": [
    "is_palindrome(123454321)"
   ]
  }
 ],
 "metadata": {
  "kernelspec": {
   "display_name": "algorithms-python-py3.13 (3.13.1)",
   "language": "python",
   "name": "python3"
  },
  "language_info": {
   "codemirror_mode": {
    "name": "ipython",
    "version": 3
   },
   "file_extension": ".py",
   "mimetype": "text/x-python",
   "name": "python",
   "nbconvert_exporter": "python",
   "pygments_lexer": "ipython3",
   "version": "3.13.1"
  }
 },
 "nbformat": 4,
 "nbformat_minor": 5
}
