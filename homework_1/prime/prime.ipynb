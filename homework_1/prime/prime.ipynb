{
 "cells": [
  {
   "cell_type": "markdown",
   "id": "9251ac1d",
   "metadata": {},
   "source": [
    "# Prime numbers\n",
    "\n",
    "The input is an integer N\n",
    "\n",
    "We need to find the number of primes < N."
   ]
  },
  {
   "cell_type": "markdown",
   "id": "6dcc6375",
   "metadata": {},
   "source": [
    "# Import"
   ]
  },
  {
   "cell_type": "code",
   "execution_count": 2,
   "id": "618e1fc4",
   "metadata": {},
   "outputs": [],
   "source": [
    "import os\n",
    "\n",
    "while os.getcwd().split(\"/\")[-1] != \"algorithms_python\":\n",
    "    os.chdir(os.path.abspath(os.path.join(os.getcwd(), \"..\")))"
   ]
  },
  {
   "cell_type": "markdown",
   "id": "e5ba21ae",
   "metadata": {},
   "source": [
    "# Function"
   ]
  },
  {
   "cell_type": "markdown",
   "id": "e884c795",
   "metadata": {},
   "source": [
    "![image](../imgs/prime1.png)"
   ]
  },
  {
   "cell_type": "code",
   "execution_count": 3,
   "id": "a541dc3f",
   "metadata": {},
   "outputs": [
    {
     "name": "stdout",
     "output_type": "stream",
     "text": [
      "4\n",
      "0\n"
     ]
    }
   ],
   "source": [
    "def count_primes_v1(number: int) -> int:\n",
    "    count_primes = 0\n",
    "    for el in range(1, number + 1):\n",
    "        n_dividers = 0\n",
    "        for d in range(1, number + 1):\n",
    "            if el % d == 0:\n",
    "                n_dividers += 1\n",
    "        if n_dividers == 2:\n",
    "            count_primes += 1\n",
    "    return count_primes\n",
    "\n",
    "print(count_primes_v1(10))\n",
    "print(count_primes_v1(1))"
   ]
  },
  {
   "cell_type": "markdown",
   "id": "6683aa64",
   "metadata": {},
   "source": [
    "![image](../imgs/prime2.png)"
   ]
  },
  {
   "cell_type": "code",
   "execution_count": null,
   "id": "4a65bf91",
   "metadata": {},
   "outputs": [],
   "source": [
    "def count_primes_v2(number: int) -> int:\n",
    "    count_primes = 0\n",
    "    for el in range(1, number + 1):\n",
    "        n_dividers = 0\n",
    "        for d in range(1, number + 1):\n",
    "            if el % d == 0:\n",
    "                n_dividers += 1\n",
    "        if n_dividers == 2:\n",
    "            count_primes += 1\n",
    "    return count_primes\n",
    "\n",
    "print(count_primes_v2(10))\n",
    "print(count_primes_v2(1))"
   ]
  }
 ],
 "metadata": {
  "kernelspec": {
   "display_name": "algorithms-python-py3.12",
   "language": "python",
   "name": "python3"
  },
  "language_info": {
   "codemirror_mode": {
    "name": "ipython",
    "version": 3
   },
   "file_extension": ".py",
   "mimetype": "text/x-python",
   "name": "python",
   "nbconvert_exporter": "python",
   "pygments_lexer": "ipython3",
   "version": "3.12.9"
  }
 },
 "nbformat": 4,
 "nbformat_minor": 5
}
