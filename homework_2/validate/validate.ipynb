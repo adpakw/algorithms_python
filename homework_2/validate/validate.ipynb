{
 "cells": [
  {
   "cell_type": "markdown",
   "id": "9251ac1d",
   "metadata": {},
   "source": [
    "# Prime numbers\n",
    "\n",
    "The input is an integer N\n",
    "\n",
    "We need to find the number of primes < N."
   ]
  },
  {
   "cell_type": "markdown",
   "id": "6dcc6375",
   "metadata": {},
   "source": [
    "# Import"
   ]
  },
  {
   "cell_type": "code",
   "execution_count": 2,
   "id": "618e1fc4",
   "metadata": {},
   "outputs": [],
   "source": [
    "import os\n",
    "\n",
    "while os.getcwd().split(\"/\")[-1] != \"algorithms_python\":\n",
    "    os.chdir(os.path.abspath(os.path.join(os.getcwd(), \"..\")))"
   ]
  },
  {
   "cell_type": "markdown",
   "id": "e5ba21ae",
   "metadata": {},
   "source": [
    "# Function"
   ]
  },
  {
   "cell_type": "markdown",
   "id": "e884c795",
   "metadata": {},
   "source": [
    "![image](../imgs/prime1.png)"
   ]
  },
  {
   "cell_type": "code",
   "execution_count": null,
   "id": "a541dc3f",
   "metadata": {},
   "outputs": [
    {
     "name": "stdout",
     "output_type": "stream",
     "text": [
      "4\n",
      "0\n"
     ]
    }
   ],
   "source": [
    "def count_primes_v1(number: int) -> int:\n",
    "    count_primes = 0\n",
    "    for el in range(1, number):\n",
    "        n_dividers = 0\n",
    "        for d in range(1, number):\n",
    "            if el % d == 0:\n",
    "                n_dividers += 1\n",
    "        if n_dividers == 2:\n",
    "            count_primes += 1\n",
    "    return count_primes\n",
    "\n",
    "print(count_primes_v1(10))\n",
    "print(count_primes_v1(1))"
   ]
  },
  {
   "cell_type": "markdown",
   "id": "0162c179",
   "metadata": {},
   "source": [
    "# The Sieve of Eratosthenes"
   ]
  },
  {
   "cell_type": "markdown",
   "id": "6683aa64",
   "metadata": {},
   "source": [
    "![image](../imgs/New_Animation_Sieve_of_Eratosthenes.gif)"
   ]
  },
  {
   "cell_type": "code",
   "execution_count": 16,
   "id": "4a65bf91",
   "metadata": {},
   "outputs": [
    {
     "name": "stdout",
     "output_type": "stream",
     "text": [
      "30\n",
      "4\n",
      "0\n"
     ]
    }
   ],
   "source": [
    "def count_primes_v2(number: int) -> int:\n",
    "    \"\"\"Реализация через решето Эратосфена\"\"\"\n",
    "    if number <= 2:\n",
    "        return 0\n",
    "    sieve = [True] * number  # Сначала помечаю все числа как простые(True),\n",
    "    sieve[0] = False  # 0 не является простым числом\n",
    "    sieve[1] = False  # 1 не является простым числом\n",
    "\n",
    "    for iter_el in range(2, number):\n",
    "        if sieve[iter_el] == True:\n",
    "            for composite_number in range(iter_el + iter_el, number, iter_el):\n",
    "                sieve[composite_number] = False\n",
    "    \n",
    "    return sum(sieve)\n",
    "\n",
    "print(count_primes_v2(114))\n",
    "\n",
    "print(count_primes_v2(10))\n",
    "print(count_primes_v2(1))"
   ]
  }
 ],
 "metadata": {
  "kernelspec": {
   "display_name": "algorithms-python-py3.13 (3.13.1)",
   "language": "python",
   "name": "python3"
  },
  "language_info": {
   "codemirror_mode": {
    "name": "ipython",
    "version": 3
   },
   "file_extension": ".py",
   "mimetype": "text/x-python",
   "name": "python",
   "nbconvert_exporter": "python",
   "pygments_lexer": "ipython3",
   "version": "3.13.1"
  }
 },
 "nbformat": 4,
 "nbformat_minor": 5
}
