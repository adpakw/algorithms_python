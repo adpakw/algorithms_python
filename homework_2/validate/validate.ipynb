{
 "cells": [
  {
   "cell_type": "markdown",
   "id": "9251ac1d",
   "metadata": {},
   "source": [
    "# Validate\n",
    "\n",
    "Даны 2 последовательности ```pushed``` и ```popped```, содержащие уникальные целые числа. ```popped```  является перестановкой ```pushed```, то есть, все элементы совпадают, но может отличаться порядок.\n",
    "\n",
    "Программа должна вернуть True, если эти последовательности могут получиться в результате некоторой последовательности операций ```push``` и ```pop``` на пустом стеке.\n",
    "\n",
    "```1 <= len(pushed) <= 100_000```\n",
    "\n",
    "Пример 1:\n",
    "\n",
    "```pushed: 1 2 3 4 5```\n",
    "\n",
    "```popped: 1 3 5 4 2```\n",
    "\n",
    "```result: True```\n",
    "\n",
    "Последовательность операций: ```push(1), pop(1), push(2), push(3), pop(3), push(4), push(5), pop(5), pop(4), pop(2)```\n",
    "\n",
    "Пример 2:\n",
    "\n",
    "```pushed: 1 2 3```\n",
    "\n",
    "```popped: 3 1 2```\n",
    "\n",
    "```result: False```\n",
    "\n",
    "Последовательность операций: ```push(1), push(2), push(3), pop(3), нужно pop(1), но на вершине стека лежит 2.```\n",
    "\n",
    "\n",
    "Требования:\n",
    "\n",
    "* стороннике библиотеки не используем\n",
    "* тесты"
   ]
  },
  {
   "cell_type": "markdown",
   "id": "6dcc6375",
   "metadata": {},
   "source": [
    "# Import"
   ]
  },
  {
   "cell_type": "code",
   "execution_count": 1,
   "id": "618e1fc4",
   "metadata": {},
   "outputs": [],
   "source": [
    "import os\n",
    "\n",
    "while os.getcwd().split(\"/\")[-1] != \"algorithms_python\":\n",
    "    os.chdir(os.path.abspath(os.path.join(os.getcwd(), \"..\")))"
   ]
  },
  {
   "cell_type": "code",
   "execution_count": null,
   "id": "c8766f28",
   "metadata": {},
   "outputs": [],
   "source": [
    "from homework_2.stack_vs_queue.stack_vs_queue import Stack"
   ]
  },
  {
   "cell_type": "markdown",
   "id": "e5ba21ae",
   "metadata": {},
   "source": [
    "# Function"
   ]
  },
  {
   "cell_type": "markdown",
   "id": "2e8469ab",
   "metadata": {},
   "source": [
    "**Логика:**\n",
    "1. итеративно кладем в стек элементы pushed\n",
    "2. на каждой итерации проверяем (\"первый\" элемент popped = top'у стэка)\n",
    "\n",
    "    2.1. если равен, то делаем \"поп\" у стэка и идем на следующий элемент popped (дальше \"рекурсия\" 2) )\n",
    "\n",
    "    2.2. иначе 1)"
   ]
  },
  {
   "cell_type": "code",
   "execution_count": 18,
   "id": "a541dc3f",
   "metadata": {},
   "outputs": [
    {
     "name": "stdout",
     "output_type": "stream",
     "text": [
      "pushed=[1, 2, 3, 4, 5]\n",
      "popped=[1, 3, 5, 4, 2]\n",
      "result: True\n",
      "\n",
      "pushed=[1, 2, 3]\n",
      "popped=[3, 1, 2]\n",
      "result: False\n",
      "\n",
      "pushed=[1, 2]\n",
      "popped=[1]\n",
      "result: False\n"
     ]
    }
   ],
   "source": [
    "def validate_stack_sequences(pushed, popped):\n",
    "    if len(pushed) != len(popped):\n",
    "        return False\n",
    "\n",
    "    stack = Stack()\n",
    "    pop_index = 0\n",
    "\n",
    "    for value in pushed:\n",
    "        stack.push(value)\n",
    "\n",
    "        # Пока на вершине стека есть элемент, который нужно извлечь - извлекаем\n",
    "        while (\n",
    "            stack.top is not None\n",
    "            and pop_index < len(popped)\n",
    "            and stack.top.value == popped[pop_index]\n",
    "        ):\n",
    "            stack.pop()\n",
    "            pop_index += 1\n",
    "\n",
    "    # Если смогли извлечь все элементы - последовательность валидна\n",
    "    return pop_index == len(popped)\n",
    "\n",
    "\n",
    "print(\n",
    "    \"pushed=[1, 2, 3, 4, 5]\\npopped=[1, 3, 5, 4, 2]\\nresult:\",\n",
    "    validate_stack_sequences(pushed=[1, 2, 3, 4, 5], popped=[1, 3, 5, 4, 2]),\n",
    ")\n",
    "\n",
    "print()\n",
    "\n",
    "print(\n",
    "    \"pushed=[1, 2, 3]\\npopped=[3, 1, 2]\\nresult:\",\n",
    "    validate_stack_sequences(pushed=[1, 2, 3], popped=[3, 1, 2]),\n",
    ")\n",
    "\n",
    "print()\n",
    "\n",
    "print(\n",
    "    \"pushed=[1, 2]\\npopped=[1]\\nresult:\",\n",
    "    validate_stack_sequences(pushed=[1, 2], popped=[1]),\n",
    ")"
   ]
  }
 ],
 "metadata": {
  "kernelspec": {
   "display_name": "algorithms-python-py3.13 (3.13.1)",
   "language": "python",
   "name": "python3"
  },
  "language_info": {
   "codemirror_mode": {
    "name": "ipython",
    "version": 3
   },
   "file_extension": ".py",
   "mimetype": "text/x-python",
   "name": "python",
   "nbconvert_exporter": "python",
   "pygments_lexer": "ipython3",
   "version": "3.13.1"
  }
 },
 "nbformat": 4,
 "nbformat_minor": 5
}
