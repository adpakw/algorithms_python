{
 "cells": [
  {
   "cell_type": "markdown",
   "id": "c5dfa3c4",
   "metadata": {},
   "source": [
    "# Sum\n",
    "\n",
    "Given an array of positive integer numbers splitted by space\n",
    "\n",
    "Find maximum sum of array elements which is divisible by 2"
   ]
  },
  {
   "cell_type": "markdown",
   "id": "ed151e9c",
   "metadata": {},
   "source": [
    "# Import"
   ]
  },
  {
   "cell_type": "code",
   "execution_count": 1,
   "id": "dfe689c3",
   "metadata": {},
   "outputs": [],
   "source": [
    "import os\n",
    "\n",
    "while os.getcwd().split(\"/\")[-1] != \"algorithms_python\":\n",
    "    os.chdir(os.path.abspath(os.path.join(os.getcwd(), \"..\")))"
   ]
  },
  {
   "cell_type": "markdown",
   "id": "ff793e42",
   "metadata": {},
   "source": [
    "# Function"
   ]
  },
  {
   "cell_type": "markdown",
   "id": "706044cd",
   "metadata": {},
   "source": [
    "![image](../imgs/sum1.png)"
   ]
  },
  {
   "cell_type": "code",
   "execution_count": 25,
   "id": "c16deac5",
   "metadata": {},
   "outputs": [
    {
     "name": "stdout",
     "output_type": "stream",
     "text": [
      "36\n",
      "0\n"
     ]
    }
   ],
   "source": [
    "def find_max_sum_div_2_v1(array: str) -> int:\n",
    "    array = list(map(int, array.split()))\n",
    "    max_sum = 0\n",
    "    for i in range(len(array)):\n",
    "        for j in range(i + 1, len(array)):\n",
    "            subsequence_sum = sum(array[i:j+1])\n",
    "            if subsequence_sum % 2 == 0 and max_sum < subsequence_sum:\n",
    "                max_sum = subsequence_sum\n",
    "    return max_sum\n",
    "\n",
    "print(find_max_sum_div_2_v1(\"5 7 13 2 14\"))\n",
    "print(find_max_sum_div_2_v1(\"3\"))"
   ]
  },
  {
   "cell_type": "markdown",
   "id": "c8cc1e22",
   "metadata": {},
   "source": [
    "![image](../imgs/sum2.png)"
   ]
  },
  {
   "cell_type": "code",
   "execution_count": 35,
   "id": "a584a89a",
   "metadata": {},
   "outputs": [
    {
     "name": "stdout",
     "output_type": "stream",
     "text": [
      "36\n",
      "0\n"
     ]
    }
   ],
   "source": [
    "def find_max_sum_div_2_v2(array: str) -> int:\n",
    "    array = list(map(int, array.split()))\n",
    "    \n",
    "    even_arr = []\n",
    "    odd_arr = []\n",
    "    for i in range(len(array)):\n",
    "        if array[i] % 2:\n",
    "            odd_arr.append(array[i])\n",
    "        else:\n",
    "            even_arr.append(array[i])\n",
    "    \n",
    "    even_arr.sort()\n",
    "    odd_arr.sort()\n",
    "    \n",
    "    max_sum = sum(even_arr) + sum(odd_arr)\n",
    "    if max_sum % 2 == 0:\n",
    "        return max_sum\n",
    "    else:\n",
    "        return max_sum - odd_arr[0]\n",
    "\n",
    "print(find_max_sum_div_2_v2(\"5 7 13 2 14\"))\n",
    "print(find_max_sum_div_2_v2(\"3\"))"
   ]
  },
  {
   "cell_type": "markdown",
   "id": "510da4c3",
   "metadata": {},
   "source": [
    "![image](../imgs/sum3.png)"
   ]
  },
  {
   "cell_type": "code",
   "execution_count": 36,
   "id": "ba8d5cab",
   "metadata": {},
   "outputs": [
    {
     "name": "stdout",
     "output_type": "stream",
     "text": [
      "36\n",
      "178\n"
     ]
    }
   ],
   "source": [
    "def find_max_sum_div_2_v3(array: str) -> int:\n",
    "    array = list(map(int, array.split()))\n",
    "\n",
    "    odd_min = float(\"inf\")\n",
    "    for i in range(len(array)):\n",
    "        if array[i] % 2 and array[i] < odd_min:\n",
    "            odd_min = array[i]\n",
    "\n",
    "    max_sum = sum(array)\n",
    "    if max_sum % 2 == 0:\n",
    "        return max_sum\n",
    "    else:\n",
    "        return max_sum - odd_min\n",
    "\n",
    "\n",
    "print(find_max_sum_div_2_v3(\"5 7 13 2 14\"))\n",
    "print(find_max_sum_div_2_v3(\"12 9 23 54 89\"))"
   ]
  }
 ],
 "metadata": {
  "kernelspec": {
   "display_name": "algorithms-python-py3.13 (3.13.1)",
   "language": "python",
   "name": "python3"
  },
  "language_info": {
   "codemirror_mode": {
    "name": "ipython",
    "version": 3
   },
   "file_extension": ".py",
   "mimetype": "text/x-python",
   "name": "python",
   "nbconvert_exporter": "python",
   "pygments_lexer": "ipython3",
   "version": "3.13.1"
  }
 },
 "nbformat": 4,
 "nbformat_minor": 5
}
