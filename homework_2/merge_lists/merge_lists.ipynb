{
 "cells": [
  {
   "cell_type": "markdown",
   "id": "c5dfa3c4",
   "metadata": {},
   "source": [
    "# Merge lists\n",
    "\n",
    "Даны два отсортированных односвязных списка list1 и list2\n",
    "\n",
    "Необходимо объединить их в один новый отсортированный список.\n",
    "\n",
    "Новый список должен быть составлен слиянием узлов двух исходных списков. \n",
    "\n",
    "Вернуть необходимо голову объединенного списка.\n",
    "\n",
    "\n",
    "Вход: list1 = [1,2,4], list2 = [1,3,4]\n",
    "Выход: [1,1,2,3,4,4]\n",
    "\n",
    "Требования:\n",
    "* реализовать два способа решения поставленной задачи: с использованием фиктивного элемента и без него\n",
    "* написать тесты\n",
    "\n",
    "https://leetcode.com/problems/merge-two-sorted-lists/description/"
   ]
  },
  {
   "cell_type": "markdown",
   "id": "ed151e9c",
   "metadata": {},
   "source": [
    "# Import"
   ]
  },
  {
   "cell_type": "code",
   "execution_count": 1,
   "id": "dfe689c3",
   "metadata": {},
   "outputs": [],
   "source": [
    "import os\n",
    "\n",
    "while os.getcwd().split(\"/\")[-1] != \"algorithms_python\":\n",
    "    os.chdir(os.path.abspath(os.path.join(os.getcwd(), \"..\")))"
   ]
  },
  {
   "cell_type": "markdown",
   "id": "ff793e42",
   "metadata": {},
   "source": [
    "# Linked List"
   ]
  },
  {
   "cell_type": "code",
   "execution_count": 37,
   "id": "85be00af",
   "metadata": {},
   "outputs": [],
   "source": [
    "class ListNode:\n",
    "    \"\"\"Нода связного списка\"\"\"\n",
    "\n",
    "    def __init__(self, value):\n",
    "        self.value = value\n",
    "        self.next = None\n",
    "\n",
    "\n",
    "class LinkedList:\n",
    "    \"\"\"Односвязный список\"\"\"\n",
    "    \n",
    "    def __init__(self):\n",
    "        self.head = None\n",
    "    \n",
    "    def append(self, value):\n",
    "        \"\"\"Добавление элемента в конец списка\"\"\"\n",
    "        new_node = ListNode(value)\n",
    "        \n",
    "        if self.head is None:\n",
    "            self.head = new_node\n",
    "        else:\n",
    "            current = self.head\n",
    "            while current.next is not None:\n",
    "                current = current.next\n",
    "            current.next = new_node\n",
    "    \n",
    "    def from_list(self, values):\n",
    "        \"\"\"Создание связного списка из обычного списка\"\"\"\n",
    "        self.head = None\n",
    "        for value in values:\n",
    "            self.append(value)\n",
    "    \n",
    "    def to_list(self):\n",
    "        \"\"\"Преобразование связного списка в обычный список\"\"\"\n",
    "        result = []\n",
    "        current = self.head\n",
    "        while current:\n",
    "            result.append(current.value)\n",
    "            current = current.next\n",
    "        return result\n",
    "    \n",
    "    def copy(self):\n",
    "        \"\"\"Создание глубокой копии связного списка\"\"\"\n",
    "        new_list = LinkedList()\n",
    "        \n",
    "        if self.head is None:\n",
    "            return new_list\n",
    "        \n",
    "        new_list.head = ListNode(self.head.value)\n",
    "        current_original = self.head.next\n",
    "        current_copy = new_list.head\n",
    "        \n",
    "        while current_original:\n",
    "            current_copy.next = ListNode(current_original.value)\n",
    "            current_original = current_original.next\n",
    "            current_copy = current_copy.next\n",
    "        \n",
    "        return new_list\n",
    "    \n",
    "    def __str__(self):\n",
    "        elements = []\n",
    "        current = self.head\n",
    "        while current:\n",
    "            elements.append(str(current.value))\n",
    "            current = current.next\n",
    "        \n",
    "        if not elements:\n",
    "            return \"empty LinkedList\"\n",
    "        \n",
    "        return \"[\" + \" -> \".join(elements) + \"]\"\n"
   ]
  },
  {
   "cell_type": "code",
   "execution_count": 15,
   "id": "f8b94ac1",
   "metadata": {},
   "outputs": [
    {
     "name": "stdout",
     "output_type": "stream",
     "text": [
      "[1, 2, 3, 4]\n",
      "[1 -> 2 -> 3 -> 4]\n"
     ]
    }
   ],
   "source": [
    "ll = LinkedList()\n",
    "ll.append(1)\n",
    "ll.append(2)\n",
    "ll.append(3)\n",
    "ll.append(4)\n",
    "print(ll.to_list())\n",
    "ll1 = LinkedList()\n",
    "ll1.from_list(ll.to_list())\n",
    "print(ll1)"
   ]
  },
  {
   "cell_type": "markdown",
   "id": "778a77ba",
   "metadata": {},
   "source": [
    "![image](../imgs/merge_lists.png)"
   ]
  },
  {
   "cell_type": "markdown",
   "id": "0e56d9c4",
   "metadata": {},
   "source": [
    "**Логика:**\n",
    "- проверяем не пустой ли первый или второй LinkedList (если есть только один, то он и является результатом)\n",
    "- сравниваем головы обоих LinkedList, меньший элемент становится головой результирующего LinkedList\n",
    "- сдвигаем указатель того LinkedList, из которого взяли элемент\n",
    "- пока в ОБОИХ LinkedList остаются элементы\n",
    "- на каждом шаге сравниваем текущие элементы двух LinkedList, меньший элемент добавляется в результат"
   ]
  },
  {
   "cell_type": "code",
   "execution_count": null,
   "id": "264429fd",
   "metadata": {},
   "outputs": [],
   "source": [
    "def merge_two_sorted_lists_without_dummy(\n",
    "    list1: LinkedList, list2: LinkedList\n",
    ") -> LinkedList:\n",
    "    l1 = list1.head\n",
    "    l2 = list2.head\n",
    "\n",
    "    result = LinkedList()\n",
    "\n",
    "    # Обработка пустых списков\n",
    "    if l1 is None and l2 is None:\n",
    "        return result\n",
    "    elif l1 is None and l2 is not None:\n",
    "        result = list2.copy()\n",
    "        return result\n",
    "    elif l1 is not None and l2 is None:\n",
    "        result = list1.copy()\n",
    "        return result\n",
    "\n",
    "    if l1.value <= l2.value:\n",
    "        result.head = ListNode(l1.value)\n",
    "        l1 = l1.next\n",
    "    else:\n",
    "        result.head = ListNode(l2.value)\n",
    "        l2 = l2.next\n",
    "\n",
    "    current = result.head\n",
    "\n",
    "    while l1 is not None and l2 is not None:\n",
    "        if l1.value <= l2.value:\n",
    "            current.next = ListNode(l1.value)\n",
    "            l1 = l1.next\n",
    "        else:\n",
    "            current.next = ListNode(l2.value)\n",
    "            l2 = l2.next\n",
    "        current = current.next\n",
    "\n",
    "    if l1 is not None:\n",
    "        remaining = l1\n",
    "    else:\n",
    "        remaining = l2\n",
    "\n",
    "    while remaining:\n",
    "        current.next = ListNode(remaining.value)\n",
    "        current = current.next\n",
    "        remaining = remaining.next\n",
    "\n",
    "    return result"
   ]
  },
  {
   "cell_type": "code",
   "execution_count": 38,
   "id": "fcff13ce",
   "metadata": {},
   "outputs": [
    {
     "name": "stdout",
     "output_type": "stream",
     "text": [
      "[]\n",
      "[1, 3, 5]\n",
      "[2, 4, 6]\n",
      "[1, 1, 2, 3, 4, 4]\n"
     ]
    }
   ],
   "source": [
    "list1 = LinkedList()\n",
    "list2 = LinkedList()\n",
    "result = merge_two_sorted_lists_without_dummy(list1, list2)\n",
    "print(result.to_list())\n",
    "\n",
    "list1 = LinkedList()\n",
    "list2 = LinkedList()\n",
    "list2.from_list([1, 3, 5])\n",
    "result = merge_two_sorted_lists_without_dummy(list1, list2)\n",
    "print(result.to_list())\n",
    "\n",
    "\n",
    "list1 = LinkedList()\n",
    "list1.from_list([2, 4, 6])\n",
    "list2 = LinkedList()\n",
    "result = merge_two_sorted_lists_without_dummy(list1, list2)\n",
    "print(result.to_list())\n",
    "\n",
    "list1 = LinkedList()\n",
    "list1.from_list([1, 2, 4])\n",
    "list2 = LinkedList()\n",
    "list2.from_list([1, 3, 4])\n",
    "\n",
    "result = merge_two_sorted_lists_without_dummy(list1, list2)\n",
    "print(result.to_list())"
   ]
  },
  {
   "cell_type": "code",
   "execution_count": 39,
   "id": "7cf6b817",
   "metadata": {},
   "outputs": [],
   "source": [
    "def merge_two_sorted_lists_with_dummy(\n",
    "    list1: LinkedList, list2: LinkedList\n",
    ") -> LinkedList:\n",
    "    l1 = list1.head\n",
    "    l2 = list2.head\n",
    "\n",
    "    result = LinkedList()\n",
    "\n",
    "    dummy = ListNode(None)\n",
    "    current = dummy\n",
    "\n",
    "    while l1 and l2:\n",
    "        if l1.value <= l2.value:\n",
    "            current.next = ListNode(l1.value)\n",
    "            l1 = l1.next\n",
    "        else:\n",
    "            current.next = ListNode(l2.value)\n",
    "            l2 = l2.next\n",
    "        current = current.next\n",
    "\n",
    "    if l1 is not None:\n",
    "        remaining = l1\n",
    "    else:\n",
    "        remaining = l2\n",
    "    while remaining:\n",
    "        current.next = ListNode(remaining.value)\n",
    "        current = current.next\n",
    "        remaining = remaining.next\n",
    "\n",
    "    result.head = dummy.next\n",
    "    return result"
   ]
  },
  {
   "cell_type": "code",
   "execution_count": 40,
   "id": "3ffc1e62",
   "metadata": {},
   "outputs": [
    {
     "name": "stdout",
     "output_type": "stream",
     "text": [
      "[]\n",
      "[1, 3, 5]\n",
      "[2, 4, 6]\n",
      "[1, 1, 2, 3, 4, 4]\n"
     ]
    }
   ],
   "source": [
    "list1 = LinkedList()\n",
    "list2 = LinkedList()\n",
    "result = merge_two_sorted_lists_with_dummy(list1, list2)\n",
    "print(result.to_list())\n",
    "\n",
    "list1 = LinkedList()\n",
    "list2 = LinkedList()\n",
    "list2.from_list([1, 3, 5])\n",
    "result = merge_two_sorted_lists_with_dummy(list1, list2)\n",
    "print(result.to_list())\n",
    "\n",
    "\n",
    "list1 = LinkedList()\n",
    "list1.from_list([2, 4, 6])\n",
    "list2 = LinkedList()\n",
    "result = merge_two_sorted_lists_with_dummy(list1, list2)\n",
    "print(result.to_list())\n",
    "\n",
    "list1 = LinkedList()\n",
    "list1.from_list([1, 2, 4])\n",
    "list2 = LinkedList()\n",
    "list2.from_list([1, 3, 4])\n",
    "\n",
    "result = merge_two_sorted_lists_with_dummy(list1, list2)\n",
    "print(result.to_list())"
   ]
  }
 ],
 "metadata": {
  "kernelspec": {
   "display_name": "algorithms-python-py3.13 (3.13.1)",
   "language": "python",
   "name": "python3"
  },
  "language_info": {
   "codemirror_mode": {
    "name": "ipython",
    "version": 3
   },
   "file_extension": ".py",
   "mimetype": "text/x-python",
   "name": "python",
   "nbconvert_exporter": "python",
   "pygments_lexer": "ipython3",
   "version": "3.13.1"
  }
 },
 "nbformat": 4,
 "nbformat_minor": 5
}
